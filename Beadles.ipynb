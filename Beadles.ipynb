{
 "cells": [
  {
   "cell_type": "code",
   "execution_count": 2,
   "id": "f11fbb83",
   "metadata": {},
   "outputs": [
    {
     "data": {
      "application/vnd.jupyter.widget-view+json": {
       "model_id": "0cb810386cbc4e2098088612153a86b6",
       "version_major": 2,
       "version_minor": 0
      },
      "text/plain": [
       "interactive(children=(IntSlider(value=100, description='xmin', max=1198), IntSlider(value=800, description='xm…"
      ]
     },
     "metadata": {},
     "output_type": "display_data"
    },
    {
     "data": {
      "text/plain": [
       "<function __main__.process_patch(xmin=100, xmax=800, ymin=100, ymax=300, n_colors=4, target_height=24, target_width=100)>"
      ]
     },
     "execution_count": 2,
     "metadata": {},
     "output_type": "execute_result"
    }
   ],
   "source": [
    "from PIL import Image\n",
    "from IPython.display import display\n",
    "import matplotlib.pyplot as plt\n",
    "import matplotlib.patches as patches\n",
    "import numpy as np\n",
    "from sklearn.cluster import KMeans\n",
    "\n",
    "import ipywidgets as widgets\n",
    "from ipywidgets import interact, IntSlider, fixed\n",
    "\n",
    "# --- User options ---\n",
    "img_path = 'Van.jpg'\n",
    "\n",
    "# --- Load image to get its size for slider limits ---\n",
    "img = Image.open(img_path)\n",
    "img_width, img_height = img.size\n",
    "\n",
    "def process_patch(\n",
    "    xmin=100, xmax=800, ymin=100, ymax=300,\n",
    "    n_colors=4,\n",
    "    target_height=24, target_width=100\n",
    "):\n",
    "    # Clamp values to image size\n",
    "    xmin = max(0, min(xmin, img_width-1))\n",
    "    xmax = max(xmin+1, min(xmax, img_width))\n",
    "    ymin = max(0, min(ymin, img_height-1))\n",
    "    ymax = max(ymin+1, min(ymax, img_height))\n",
    "    target_res = (target_width, target_height)\n",
    "\n",
    "    display(img)\n",
    "    print(f\"Image size: {img.size} (width, height)\")\n",
    "    print(f\"Selected rectangle: ({xmin}, {ymin}) to ({xmax}, {ymax})\")\n",
    "    print(f\"Target resolution: {target_res}\")\n",
    "    print(f\"Number of colors: {n_colors}\")\n",
    "\n",
    "    # --- Crop the patch from the image ---\n",
    "    patch = img.crop((xmin, ymin, xmax, ymax))\n",
    "\n",
    "    # --- Downsample the patch to target resolution ---\n",
    "    patch_downsampled = patch.resize(target_res, Image.LANCZOS)\n",
    "\n",
    "    # --- Convert downsampled patch to numpy array ---\n",
    "    patch_np = np.array(patch_downsampled)\n",
    "    h, w = patch_np.shape[:2]\n",
    "    patch_reshaped = patch_np.reshape(-1, 3)\n",
    "\n",
    "    # --- Use KMeans to find n_colors basic colors ---\n",
    "    kmeans = KMeans(n_clusters=n_colors, random_state=0, n_init=10)\n",
    "    labels = kmeans.fit_predict(patch_reshaped)\n",
    "    basic_colors = kmeans.cluster_centers_.astype(np.uint8)\n",
    "\n",
    "    # --- Recreate the patch using the basic colors ---\n",
    "    approx_patch = basic_colors[labels].reshape(h, w, 3)\n",
    "\n",
    "    # --- Show the original and approximated patch side by side ---\n",
    "    fig, axs = plt.subplots(1, 2, figsize=(8, 4))\n",
    "    axs[0].imshow(patch_downsampled)\n",
    "    axs[0].set_title(f\"Downsampled Patch ({w}x{h})\")\n",
    "    axs[0].axis('off')\n",
    "    axs[1].imshow(approx_patch)\n",
    "    axs[1].set_title(f\"Approximated with {n_colors} Colors\")\n",
    "    axs[1].axis('off')\n",
    "    plt.show()\n",
    "\n",
    "    # --- Optionally, show the rectangle on the original image ---\n",
    "    fig, ax = plt.subplots()\n",
    "    ax.imshow(img)\n",
    "    rect_patch = patches.Rectangle(\n",
    "        (xmin, ymin), xmax - xmin, ymax - ymin,\n",
    "        linewidth=2, edgecolor='r', facecolor='none'\n",
    "    )\n",
    "    ax.add_patch(rect_patch)\n",
    "    plt.show()\n",
    "\n",
    "# --- Interactive sliders for parameters ---\n",
    "interact(\n",
    "    process_patch,\n",
    "    xmin=IntSlider(min=0, max=img_width-2, step=1, value=100, description='xmin'),\n",
    "    xmax=IntSlider(min=1, max=img_width, step=1, value=800, description='xmax'),\n",
    "    ymin=IntSlider(min=0, max=img_height-2, step=1, value=100, description='ymin'),\n",
    "    ymax=IntSlider(min=1, max=img_height, step=1, value=300, description='ymax'),\n",
    "    n_colors=IntSlider(min=2, max=16, step=1, value=4, description='n_colors'),\n",
    "    target_height=IntSlider(min=8, max=img_height, step=1, value=24, description='height'),\n",
    "    target_width=IntSlider(min=8, max=img_width, step=1, value=100, description='width')\n",
    ")"
   ]
  }
 ],
 "metadata": {
  "kernelspec": {
   "display_name": "base",
   "language": "python",
   "name": "python3"
  },
  "language_info": {
   "codemirror_mode": {
    "name": "ipython",
    "version": 3
   },
   "file_extension": ".py",
   "mimetype": "text/x-python",
   "name": "python",
   "nbconvert_exporter": "python",
   "pygments_lexer": "ipython3",
   "version": "3.12.7"
  }
 },
 "nbformat": 4,
 "nbformat_minor": 5
}
